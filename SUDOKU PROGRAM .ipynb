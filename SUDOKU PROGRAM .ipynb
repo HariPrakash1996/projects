{
 "cells": [
  {
   "cell_type": "code",
   "execution_count": 1,
   "metadata": {},
   "outputs": [],
   "source": [
    "grid=[[0,0,2,0,8,0,0,6,0],\n",
    "     [0,5,6,9,1,7,0,3,0],\n",
    "     [0,4,0,0,5,0,8,7,1],\n",
    "     [0,9,0,0,0,0,6,0,0],\n",
    "     [6,7,1,0,9,5,2,0,0],\n",
    "     [0,0,0,0,2,0,1,0,0],\n",
    "     [1,6,7,0,3,0,5,9,0],\n",
    "     [4,8,0,0,7,0,3,0,0],\n",
    "     [0,2,5,4,6,0,0,0,0]]"
   ]
  },
  {
   "cell_type": "code",
   "execution_count": 2,
   "metadata": {},
   "outputs": [
    {
     "name": "stdout",
     "output_type": "stream",
     "text": [
      "[[0, 0, 2, 0, 8, 0, 0, 6, 0], [0, 5, 6, 9, 1, 7, 0, 3, 0], [0, 4, 0, 0, 5, 0, 8, 7, 1], [0, 9, 0, 0, 0, 0, 6, 0, 0], [6, 7, 1, 0, 9, 5, 2, 0, 0], [0, 0, 0, 0, 2, 0, 1, 0, 0], [1, 6, 7, 0, 3, 0, 5, 9, 0], [4, 8, 0, 0, 7, 0, 3, 0, 0], [0, 2, 5, 4, 6, 0, 0, 0, 0]]\n"
     ]
    }
   ],
   "source": [
    "print(grid)"
   ]
  },
  {
   "cell_type": "code",
   "execution_count": 3,
   "metadata": {},
   "outputs": [
    {
     "name": "stdout",
     "output_type": "stream",
     "text": [
      "[[0 0 2 0 8 0 0 6 0]\n",
      " [0 5 6 9 1 7 0 3 0]\n",
      " [0 4 0 0 5 0 8 7 1]\n",
      " [0 9 0 0 0 0 6 0 0]\n",
      " [6 7 1 0 9 5 2 0 0]\n",
      " [0 0 0 0 2 0 1 0 0]\n",
      " [1 6 7 0 3 0 5 9 0]\n",
      " [4 8 0 0 7 0 3 0 0]\n",
      " [0 2 5 4 6 0 0 0 0]]\n"
     ]
    }
   ],
   "source": [
    "import numpy as np\n",
    "print(np.matrix(grid))"
   ]
  },
  {
   "cell_type": "code",
   "execution_count": 4,
   "metadata": {},
   "outputs": [],
   "source": [
    "def possible(y,x,n):\n",
    "    global grid\n",
    "    for i in range(0,9):\n",
    "        if grid[y][i] ==n:\n",
    "            return False\n",
    "    for i in range(0,9):\n",
    "        if grid[i][x] ==n:\n",
    "            return False\n",
    "    \n",
    "    \n",
    "    x0=(x//3)*3\n",
    "    y0=(y//3)*3\n",
    "    \n",
    "    for i in range(0,3):\n",
    "        for j in range(0,3):\n",
    "            if grid[y0+i][x0+j] ==n:\n",
    "                return False\n",
    "            \n",
    "    return True\n",
    "            "
   ]
  },
  {
   "cell_type": "code",
   "execution_count": 5,
   "metadata": {},
   "outputs": [
    {
     "data": {
      "text/plain": [
       "False"
      ]
     },
     "execution_count": 5,
     "metadata": {},
     "output_type": "execute_result"
    }
   ],
   "source": [
    "possible(4,4,3)"
   ]
  },
  {
   "cell_type": "code",
   "execution_count": 6,
   "metadata": {},
   "outputs": [
    {
     "data": {
      "text/plain": [
       "False"
      ]
     },
     "execution_count": 6,
     "metadata": {},
     "output_type": "execute_result"
    }
   ],
   "source": [
    "possible(4,4,5)"
   ]
  },
  {
   "cell_type": "code",
   "execution_count": 7,
   "metadata": {},
   "outputs": [],
   "source": [
    "def solve():\n",
    "    global grid\n",
    "    for y in range(9):\n",
    "        for x in range(9):\n",
    "            if grid[y][x]==0:\n",
    "                for n in range(1,10):\n",
    "                    if possible(y,x,n):\n",
    "                        grid[y][x]=n\n",
    "                        solve()\n",
    "                        grid[y][x]=0\n",
    "                return\n",
    "    print(np.matrix(grid))\n",
    "    input(\"More?\")"
   ]
  },
  {
   "cell_type": "code",
   "execution_count": 8,
   "metadata": {},
   "outputs": [
    {
     "name": "stdout",
     "output_type": "stream",
     "text": [
      "[[7 1 2 3 8 4 9 6 5]\n",
      " [8 5 6 9 1 7 4 3 2]\n",
      " [9 4 3 6 5 2 8 7 1]\n",
      " [2 9 8 1 4 3 6 5 7]\n",
      " [6 7 1 8 9 5 2 4 3]\n",
      " [5 3 4 7 2 6 1 8 9]\n",
      " [1 6 7 2 3 8 5 9 4]\n",
      " [4 8 9 5 7 1 3 2 6]\n",
      " [3 2 5 4 6 9 7 1 8]]\n",
      "More?0\n"
     ]
    }
   ],
   "source": [
    "solve()"
   ]
  },
  {
   "cell_type": "code",
   "execution_count": 9,
   "metadata": {},
   "outputs": [],
   "source": [
    "grid=[[5,3,0,0,7,0,0,0,0],\n",
    "     [6,0,0,1,9,5,0,0,0],\n",
    "     [0,9,8,0,0,0,0,6,0],\n",
    "     [8,0,0,0,6,0,0,0,3],\n",
    "     [4,0,0,8,0,3,0,0,1],\n",
    "     [7,0,0,0,2,0,0,0,6],\n",
    "     [0,6,0,0,0,0,2,8,0],\n",
    "     [0,0,0,4,1,9,0,0,5],\n",
    "     [0,0,0,0,8,0,0,7,9]]"
   ]
  },
  {
   "cell_type": "code",
   "execution_count": 10,
   "metadata": {},
   "outputs": [
    {
     "name": "stdout",
     "output_type": "stream",
     "text": [
      "[[5 3 4 6 7 8 9 1 2]\n",
      " [6 7 2 1 9 5 3 4 8]\n",
      " [1 9 8 3 4 2 5 6 7]\n",
      " [8 5 9 7 6 1 4 2 3]\n",
      " [4 2 6 8 5 3 7 9 1]\n",
      " [7 1 3 9 2 4 8 5 6]\n",
      " [9 6 1 5 3 7 2 8 4]\n",
      " [2 8 7 4 1 9 6 3 5]\n",
      " [3 4 5 2 8 6 1 7 9]]\n",
      "More?0\n"
     ]
    }
   ],
   "source": [
    "solve()"
   ]
  },
  {
   "cell_type": "code",
   "execution_count": 11,
   "metadata": {},
   "outputs": [],
   "source": [
    "grid=[[0,0,4,7,1,0,0,0,0,],\n",
    "     [0,7,2,8,0,6,5,0,0,],\n",
    "     [0,0,0,0,0,5,0,0,7],\n",
    "     [0,1,0,6,9,0,2,0,0],\n",
    "     [3,9,0,0,5,0,0,0,0],\n",
    "     [0,0,0,0,0,0,0,8,5],\n",
    "     [0,0,1,2,3,0,8,0,4],\n",
    "     [0,0,3,5,0,4,0,0,2],\n",
    "     [2,4,0,9,0,0,0,0,0]]"
   ]
  },
  {
   "cell_type": "code",
   "execution_count": 13,
   "metadata": {},
   "outputs": [
    {
     "name": "stdout",
     "output_type": "stream",
     "text": [
      "[[5 3 4 7 1 9 6 2 8]\n",
      " [1 7 2 8 4 6 5 3 9]\n",
      " [8 6 9 3 2 5 4 1 7]\n",
      " [7 1 5 6 9 8 2 4 3]\n",
      " [3 9 8 4 5 2 7 6 1]\n",
      " [4 2 6 1 7 3 9 8 5]\n",
      " [6 5 1 2 3 7 8 9 4]\n",
      " [9 8 3 5 6 4 1 7 2]\n",
      " [2 4 7 9 8 1 3 5 6]]\n",
      "More?0\n"
     ]
    }
   ],
   "source": [
    "solve()"
   ]
  },
  {
   "cell_type": "code",
   "execution_count": null,
   "metadata": {},
   "outputs": [],
   "source": []
  },
  {
   "cell_type": "code",
   "execution_count": null,
   "metadata": {},
   "outputs": [],
   "source": []
  }
 ],
 "metadata": {
  "kernelspec": {
   "display_name": "Python 3",
   "language": "python",
   "name": "python3"
  },
  "language_info": {
   "codemirror_mode": {
    "name": "ipython",
    "version": 3
   },
   "file_extension": ".py",
   "mimetype": "text/x-python",
   "name": "python",
   "nbconvert_exporter": "python",
   "pygments_lexer": "ipython3",
   "version": "3.8.3"
  }
 },
 "nbformat": 4,
 "nbformat_minor": 4
}
